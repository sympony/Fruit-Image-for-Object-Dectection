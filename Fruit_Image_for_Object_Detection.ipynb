{
  "nbformat": 4,
  "nbformat_minor": 0,
  "metadata": {
    "colab": {
      "name": "Fruit-Image-for-Object-Detection.ipynb",
      "provenance": [],
      "mount_file_id": "14v7YCgcJ9rMklSXLVBt-y8Ah82gPqRLH",
      "authorship_tag": "ABX9TyMH8v4uzLSlhHAziR+dcuCW",
      "include_colab_link": true
    },
    "kernelspec": {
      "name": "python3",
      "display_name": "Python 3"
    },
    "language_info": {
      "name": "python"
    }
  },
  "cells": [
    {
      "cell_type": "markdown",
      "metadata": {
        "id": "view-in-github",
        "colab_type": "text"
      },
      "source": [
        "<a href=\"https://colab.research.google.com/github/sympony/Fruit-Image-for-Object-Dectection/blob/main/Fruit_Image_for_Object_Detection.ipynb\" target=\"_parent\"><img src=\"https://colab.research.google.com/assets/colab-badge.svg\" alt=\"Open In Colab\"/></a>"
      ]
    },
    {
      "cell_type": "code",
      "execution_count": 18,
      "metadata": {
        "id": "NUP9GJxMGSyn"
      },
      "outputs": [],
      "source": [
        "import numpy as np\n",
        "import pandas as pd\n",
        "\n",
        "import os\n",
        "\n",
        "import cv2\n",
        "from PIL import Image\n",
        "\n",
        "from sklearn.preprocessing import LabelEncoder\n",
        "import matplotlib.pyplot as plt\n",
        "\n",
        "import keras\n",
        "from keras.models import Sequential\n",
        "from keras.layers import Dense, Conv2D, MaxPool2D, Dropout, Flatten, MaxPool2D\n",
        "from keras.layers import Activation, Convolution2D, AveragePooling2D, BatchNormalization, GlobalAveragePooling2D\n",
        "from keras import layers\n",
        "from keras.regularizers import l2\n",
        "from keras.optimizers import rmsprop_v2, adam_v2\n",
        "from keras.callbacks import ModelCheckpoint, ReduceLROnPlateau"
      ]
    },
    {
      "cell_type": "code",
      "source": [
        "images = []\n",
        "labels = []\n",
        "\n",
        "train_path = '/content/drive/MyDrive/Data/Fruit image for object detection/train'\n",
        "for filename in os.listdir(train_path):\n",
        "  if filename.split('.')[1] == 'jpg':\n",
        "    img = cv2.imread(os.path.join(train_path, filename))\n",
        "    ary = Image.fromarray(img, 'RGB')\n",
        "    r = ary.resize((50, 50))\n",
        "    labels.append(filename.split('_')[0])\n",
        "    images.append(np.array(r))"
      ],
      "metadata": {
        "id": "3vb_P1wdGnkS"
      },
      "execution_count": 4,
      "outputs": []
    },
    {
      "cell_type": "code",
      "source": [
        "np.unique(labels)"
      ],
      "metadata": {
        "colab": {
          "base_uri": "https://localhost:8080/"
        },
        "id": "l5zSOKkpHrSS",
        "outputId": "1f33efcc-a135-4443-e397-65ecfd737692"
      },
      "execution_count": 5,
      "outputs": [
        {
          "output_type": "execute_result",
          "data": {
            "text/plain": [
              "array(['apple', 'banana', 'mixed', 'orange'], dtype='<U6')"
            ]
          },
          "metadata": {},
          "execution_count": 5
        }
      ]
    },
    {
      "cell_type": "code",
      "source": [
        "la = LabelEncoder()\n",
        "labels = pd.DataFrame(labels)\n",
        "labels = la.fit_transform(labels[0])\n",
        "labels"
      ],
      "metadata": {
        "colab": {
          "base_uri": "https://localhost:8080/"
        },
        "id": "nWVe3oBIHuMj",
        "outputId": "10a31cf0-2966-439b-b8e5-0dce2b5bce3a"
      },
      "execution_count": 8,
      "outputs": [
        {
          "output_type": "execute_result",
          "data": {
            "text/plain": [
              "array([0, 0, 0, 1, 1, 1, 0, 1, 1, 1, 1, 0, 0, 0, 1, 0, 1, 0, 1, 0, 0, 1,\n",
              "       1, 0, 0, 1, 0, 1, 1, 0, 0, 0, 0, 1, 1, 0, 1, 1, 0, 1, 0, 0, 0, 1,\n",
              "       0, 1, 1, 0, 1, 0, 0, 1, 0, 0, 1, 1, 1, 0, 0, 0, 0, 0, 0, 1, 1, 1,\n",
              "       0, 1, 1, 1, 1, 1, 1, 1, 0, 0, 0, 1, 1, 0, 1, 1, 0, 1, 0, 1, 0, 1,\n",
              "       1, 0, 1, 1, 1, 1, 1, 1, 0, 1, 0, 1, 0, 0, 0, 1, 1, 0, 0, 0, 1, 1,\n",
              "       1, 1, 0, 0, 1, 0, 0, 0, 1, 0, 0, 0, 1, 1, 0, 0, 0, 0, 1, 0, 1, 0,\n",
              "       0, 1, 0, 0, 1, 0, 0, 1, 0, 0, 1, 1, 0, 0, 1, 1, 3, 3, 2, 3, 3, 3,\n",
              "       2, 3, 2, 2, 3, 2, 3, 3, 3, 3, 3, 3, 3, 2, 3, 3, 3, 3, 3, 3, 2, 3,\n",
              "       3, 3, 3, 3, 2, 3, 3, 2, 3, 3, 3, 3, 3, 3, 2, 3, 2, 2, 3, 2, 3, 3,\n",
              "       3, 3, 3, 3, 3, 3, 3, 2, 3, 3, 3, 3, 2, 3, 3, 2, 3, 3, 3, 2, 3, 2,\n",
              "       3, 3, 3, 3, 3, 3, 3, 3, 3, 2, 3, 3, 3, 3, 2, 3, 3, 3, 3, 3])"
            ]
          },
          "metadata": {},
          "execution_count": 8
        }
      ]
    },
    {
      "cell_type": "code",
      "source": [
        "figure = plt.figure(figsize=(15, 10))\n",
        "ax = figure.add_subplot(121)\n",
        "ax.imshow(images[0])\n",
        "bx = figure.add_subplot(122)\n",
        "bx.imshow(images[60])\n",
        "plt.show()"
      ],
      "metadata": {
        "colab": {
          "base_uri": "https://localhost:8080/",
          "height": 429
        },
        "id": "EDI1wNQ_ID_o",
        "outputId": "2769fd23-1a0f-4c32-d12b-2712bc78c562"
      },
      "execution_count": 10,
      "outputs": [
        {
          "output_type": "display_data",
          "data": {
            "text/plain": [
              "<Figure size 1080x720 with 2 Axes>"
            ],
            "image/png": "[encoded data removed]"
          },
          "metadata": {
            "needs_background": "light"
          }
        }
      ]
    },
    {
      "cell_type": "code",
      "source": [
        "images = np.array(images)\n",
        "np.save('image', images)\n",
        "np.save('labels', labels)"
      ],
      "metadata": {
        "id": "9jIxznkFIxs9"
      },
      "execution_count": 11,
      "outputs": []
    },
    {
      "cell_type": "code",
      "source": [
        "image = np.load('image.npy', allow_pickle=True)\n",
        "labels = np.load('labels.npy', allow_pickle=True)"
      ],
      "metadata": {
        "id": "HVXYilymI-Y4"
      },
      "execution_count": 12,
      "outputs": []
    },
    {
      "cell_type": "code",
      "source": [
        "s = np.arange(image.shape[0])\n",
        "np.random.shuffle(s)\n",
        "image = image[s]\n",
        "labels = labels[s]"
      ],
      "metadata": {
        "id": "2ArWCrGOJIRh"
      },
      "execution_count": 13,
      "outputs": []
    },
    {
      "cell_type": "code",
      "source": [
        "labels"
      ],
      "metadata": {
        "colab": {
          "base_uri": "https://localhost:8080/"
        },
        "id": "ES0M1ZPnTDKx",
        "outputId": "dd830033-aad1-4c73-eeb9-922377c4feb8"
      },
      "execution_count": 31,
      "outputs": [
        {
          "output_type": "execute_result",
          "data": {
            "text/plain": [
              "array([3, 3, 1, 1, 3, 0, 3, 3, 0, 0, 2, 1, 0, 1, 0, 3, 1, 3, 0, 0, 1, 3,\n",
              "       1, 3, 1, 0, 3, 0, 3, 3, 3, 3, 0, 1, 3, 3, 1, 1, 1, 1, 1, 3, 0, 2,\n",
              "       1, 3, 0, 3, 3, 3, 3, 0, 1, 0, 1, 1, 0, 1, 3, 3, 1, 0, 2, 0, 1, 3,\n",
              "       0, 2, 3, 3, 1, 3, 0, 3, 0, 3, 0, 1, 0, 1, 0, 3, 3, 1, 0, 0, 1, 1,\n",
              "       3, 3, 0, 0, 0, 0, 2, 0, 3, 1, 0, 2, 0, 0, 1, 3, 3, 3, 3, 2, 0, 0,\n",
              "       1, 0, 2, 3, 1, 3, 1, 1, 0, 2, 0, 1, 1, 1, 1, 2, 3, 3, 2, 2, 1, 1,\n",
              "       1, 1, 1, 1, 0, 0, 3, 0, 3, 0, 0, 1, 3, 2, 3, 0, 3, 1, 1, 3, 3, 1,\n",
              "       0, 2, 1, 0, 0, 3, 0, 1, 1, 1, 3, 3, 1, 2, 3, 0, 3, 3, 0, 3, 1, 1,\n",
              "       1, 3, 0, 3, 1, 0, 0, 1, 2, 0, 1, 2, 0, 0, 3, 1, 3, 0, 0, 0, 1, 3,\n",
              "       1, 1, 0, 1, 3, 1, 1, 0, 0, 1, 1, 0, 3, 1, 1, 2, 1, 0, 3, 0, 3, 0,\n",
              "       0, 1, 0, 2, 0, 3, 2, 3, 3, 3, 1, 3, 0, 3, 0, 0, 1, 0, 0, 0])"
            ]
          },
          "metadata": {},
          "execution_count": 31
        }
      ]
    },
    {
      "cell_type": "code",
      "source": [
        "num_classes = len(np.unique(labels))\n",
        "len_data = len(image)"
      ],
      "metadata": {
        "id": "KvZt3o5vJRUo"
      },
      "execution_count": 14,
      "outputs": []
    },
    {
      "cell_type": "code",
      "source": [
        "X_train, X_test = image[(int)(0.1 * len_data) : ], image[: (int)(0.1 * len_data)]"
      ],
      "metadata": {
        "id": "uU3sTCbXJZD9"
      },
      "execution_count": 15,
      "outputs": []
    },
    {
      "cell_type": "code",
      "source": [
        "y_train, y_test = labels[(int)(0.1 * len_data) : ], labels[: (int)(0.1 * len_data)]"
      ],
      "metadata": {
        "id": "I_eQg2oKMk5M"
      },
      "execution_count": 16,
      "outputs": []
    },
    {
      "cell_type": "code",
      "source": [
        "import tensorflow as tf\n",
        "y_train = tf.keras.utils.to_categorical(y_train, num_classes=4)\n",
        "y_test = tf.keras.utils.to_categorical(y_test, num_classes=4)"
      ],
      "metadata": {
        "id": "CFANQM4oSmba"
      },
      "execution_count": 35,
      "outputs": []
    },
    {
      "cell_type": "code",
      "source": [
        "from keras.optimizer_v2.adam import Adam\n",
        "l2_reg = 0.001\n",
        "opt = Adam(learning_rate=0.001)"
      ],
      "metadata": {
        "id": "TnJ_iP_EMqMe"
      },
      "execution_count": 20,
      "outputs": []
    },
    {
      "cell_type": "code",
      "source": [
        "from warnings import filters\n",
        "model = Sequential()\n",
        "model.add(Conv2D(filters=32, kernel_size=(2, 2), input_shape=(50, 50, 3), activation='relu', kernel_regularizer=l2(l2_reg)))\n",
        "model.add(MaxPool2D(pool_size=(2, 2)))\n",
        "model.add(Conv2D(filters=64, kernel_size=(2, 2), activation='relu', kernel_regularizer=l2(l2_reg)))\n",
        "model.add(MaxPool2D(pool_size=(2, 2)))\n",
        "model.add(Conv2D(filters=128, kernel_size=(2, 2), activation='relu', kernel_regularizer=l2(l2_reg)))\n",
        "model.add(MaxPool2D(pool_size=(2, 2)))\n",
        "model.add(Dropout(0.1))\n",
        "\n",
        "model.add(Flatten())\n",
        "model.add(Dense(64, activation='relu'))\n",
        "model.add(Dense(16, activation='relu'))\n",
        "model.add(Dense(4, activation='softmax'))\n",
        "\n",
        "model.compile(loss = 'categorical_crossentropy', optimizer=opt, metrics=['accuracy'])\n",
        "\n",
        "model.summary()"
      ],
      "metadata": {
        "colab": {
          "base_uri": "https://localhost:8080/"
        },
        "id": "lSWQQ7LHOjiE",
        "outputId": "d2214417-7c0c-4fe5-ea96-f880cd8803ad"
      },
      "execution_count": 36,
      "outputs": [
        {
          "output_type": "stream",
          "name": "stdout",
          "text": [
            "Model: \"sequential_3\"\n",
            "_________________________________________________________________\n",
            " Layer (type)                Output Shape              Param #   \n",
            "=================================================================\n",
            " conv2d_9 (Conv2D)           (None, 49, 49, 32)        416       \n",
            "                                                                 \n",
            " max_pooling2d_9 (MaxPooling  (None, 24, 24, 32)       0         \n",
            " 2D)                                                             \n",
            "                                                                 \n",
            " conv2d_10 (Conv2D)          (None, 23, 23, 64)        8256      \n",
            "                                                                 \n",
            " max_pooling2d_10 (MaxPoolin  (None, 11, 11, 64)       0         \n",
            " g2D)                                                            \n",
            "                                                                 \n",
            " conv2d_11 (Conv2D)          (None, 10, 10, 128)       32896     \n",
            "                                                                 \n",
            " max_pooling2d_11 (MaxPoolin  (None, 5, 5, 128)        0         \n",
            " g2D)                                                            \n",
            "                                                                 \n",
            " dropout_3 (Dropout)         (None, 5, 5, 128)         0         \n",
            "                                                                 \n",
            " flatten_3 (Flatten)         (None, 3200)              0         \n",
            "                                                                 \n",
            " dense_9 (Dense)             (None, 64)                204864    \n",
            "                                                                 \n",
            " dense_10 (Dense)            (None, 16)                1040      \n",
            "                                                                 \n",
            " dense_11 (Dense)            (None, 4)                 68        \n",
            "                                                                 \n",
            "=================================================================\n",
            "Total params: 247,540\n",
            "Trainable params: 247,540\n",
            "Non-trainable params: 0\n",
            "_________________________________________________________________\n"
          ]
        }
      ]
    },
    {
      "cell_type": "code",
      "source": [
        "filepath = 'weights.hdf5'\n",
        "checkpoint = ModelCheckpoint(filepath, monitor='loss', verbose=1, save_best_only=True, mode='min')\n",
        "history = model.fit(X_train, y_train, batch_size=128, epochs=100, validation_split=0.33, callbacks=[checkpoint])"
      ],
      "metadata": {
        "colab": {
          "base_uri": "https://localhost:8080/"
        },
        "id": "KN8Aqc0IP8GR",
        "outputId": "22f7f8e8-65d1-441e-e5ed-6caadd3d8434"
      },
      "execution_count": 37,
      "outputs": [
        {
          "output_type": "stream",
          "name": "stdout",
          "text": [
            "Epoch 1/100\n",
            "2/2 [==============================] - ETA: 0s - loss: 14.1782 - accuracy: 0.1389\n",
            "Epoch 1: loss improved from inf to 14.17820, saving model to weights.hdf5\n",
            "2/2 [==============================] - 3s 834ms/step - loss: 14.1782 - accuracy: 0.1389 - val_loss: 6.8051 - val_accuracy: 0.2917\n",
            "Epoch 2/100\n",
            "2/2 [==============================] - ETA: 0s - loss: 6.8615 - accuracy: 0.3194\n",
            "Epoch 2: loss improved from 14.17820 to 6.86153, saving model to weights.hdf5\n",
            "2/2 [==============================] - 1s 267ms/step - loss: 6.8615 - accuracy: 0.3194 - val_loss: 9.0366 - val_accuracy: 0.2778\n",
            "Epoch 3/100\n",
            "2/2 [==============================] - ETA: 0s - loss: 8.4380 - accuracy: 0.2917\n",
            "Epoch 3: loss did not improve from 6.86153\n",
            "2/2 [==============================] - 1s 165ms/step - loss: 8.4380 - accuracy: 0.2917 - val_loss: 5.2850 - val_accuracy: 0.2778\n",
            "Epoch 4/100\n",
            "2/2 [==============================] - ETA: 0s - loss: 5.1361 - accuracy: 0.2986\n",
            "Epoch 4: loss improved from 6.86153 to 5.13606, saving model to weights.hdf5\n",
            "2/2 [==============================] - 1s 212ms/step - loss: 5.1361 - accuracy: 0.2986 - val_loss: 3.0947 - val_accuracy: 0.4583\n",
            "Epoch 5/100\n",
            "2/2 [==============================] - ETA: 0s - loss: 3.7358 - accuracy: 0.4306\n",
            "Epoch 5: loss improved from 5.13606 to 3.73577, saving model to weights.hdf5\n",
            "2/2 [==============================] - 1s 210ms/step - loss: 3.7358 - accuracy: 0.4306 - val_loss: 1.9817 - val_accuracy: 0.4583\n",
            "Epoch 6/100\n",
            "2/2 [==============================] - ETA: 0s - loss: 2.2262 - accuracy: 0.4167\n",
            "Epoch 6: loss improved from 3.73577 to 2.22620, saving model to weights.hdf5\n",
            "2/2 [==============================] - 1s 203ms/step - loss: 2.2262 - accuracy: 0.4167 - val_loss: 2.2235 - val_accuracy: 0.3056\n",
            "Epoch 7/100\n",
            "2/2 [==============================] - ETA: 0s - loss: 2.3889 - accuracy: 0.3333\n",
            "Epoch 7: loss did not improve from 2.22620\n",
            "2/2 [==============================] - 1s 167ms/step - loss: 2.3889 - accuracy: 0.3333 - val_loss: 1.4557 - val_accuracy: 0.3056\n",
            "Epoch 8/100\n",
            "2/2 [==============================] - ETA: 0s - loss: 1.6092 - accuracy: 0.3889\n",
            "Epoch 8: loss improved from 2.22620 to 1.60924, saving model to weights.hdf5\n",
            "2/2 [==============================] - 1s 207ms/step - loss: 1.6092 - accuracy: 0.3889 - val_loss: 1.1800 - val_accuracy: 0.4444\n",
            "Epoch 9/100\n",
            "2/2 [==============================] - ETA: 0s - loss: 1.3983 - accuracy: 0.4375\n",
            "Epoch 9: loss improved from 1.60924 to 1.39833, saving model to weights.hdf5\n",
            "2/2 [==============================] - 1s 225ms/step - loss: 1.3983 - accuracy: 0.4375 - val_loss: 1.1093 - val_accuracy: 0.5556\n",
            "Epoch 10/100\n",
            "2/2 [==============================] - ETA: 0s - loss: 1.3339 - accuracy: 0.4722\n",
            "Epoch 10: loss improved from 1.39833 to 1.33387, saving model to weights.hdf5\n",
            "2/2 [==============================] - 1s 207ms/step - loss: 1.3339 - accuracy: 0.4722 - val_loss: 1.2079 - val_accuracy: 0.6111\n",
            "Epoch 11/100\n",
            "2/2 [==============================] - ETA: 0s - loss: 1.3300 - accuracy: 0.4861\n",
            "Epoch 11: loss improved from 1.33387 to 1.33002, saving model to weights.hdf5\n",
            "2/2 [==============================] - 1s 201ms/step - loss: 1.3300 - accuracy: 0.4861 - val_loss: 1.1135 - val_accuracy: 0.5972\n",
            "Epoch 12/100\n",
            "2/2 [==============================] - ETA: 0s - loss: 1.2227 - accuracy: 0.5069\n",
            "Epoch 12: loss improved from 1.33002 to 1.22275, saving model to weights.hdf5\n",
            "2/2 [==============================] - 1s 210ms/step - loss: 1.2227 - accuracy: 0.5069 - val_loss: 1.0426 - val_accuracy: 0.6111\n",
            "Epoch 13/100\n",
            "2/2 [==============================] - ETA: 0s - loss: 1.1313 - accuracy: 0.5833\n",
            "Epoch 13: loss improved from 1.22275 to 1.13127, saving model to weights.hdf5\n",
            "2/2 [==============================] - 1s 204ms/step - loss: 1.1313 - accuracy: 0.5833 - val_loss: 0.9997 - val_accuracy: 0.6111\n",
            "Epoch 14/100\n",
            "2/2 [==============================] - ETA: 0s - loss: 1.1090 - accuracy: 0.5625\n",
            "Epoch 14: loss improved from 1.13127 to 1.10896, saving model to weights.hdf5\n",
            "2/2 [==============================] - 1s 212ms/step - loss: 1.1090 - accuracy: 0.5625 - val_loss: 1.0294 - val_accuracy: 0.6111\n",
            "Epoch 15/100\n",
            "2/2 [==============================] - ETA: 0s - loss: 1.0690 - accuracy: 0.5694\n",
            "Epoch 15: loss improved from 1.10896 to 1.06898, saving model to weights.hdf5\n",
            "2/2 [==============================] - 1s 218ms/step - loss: 1.0690 - accuracy: 0.5694 - val_loss: 0.9477 - val_accuracy: 0.6389\n",
            "Epoch 16/100\n",
            "2/2 [==============================] - ETA: 0s - loss: 1.0129 - accuracy: 0.5833\n",
            "Epoch 16: loss improved from 1.06898 to 1.01285, saving model to weights.hdf5\n",
            "2/2 [==============================] - 1s 221ms/step - loss: 1.0129 - accuracy: 0.5833 - val_loss: 0.8752 - val_accuracy: 0.6250\n",
            "Epoch 17/100\n",
            "2/2 [==============================] - ETA: 0s - loss: 0.9596 - accuracy: 0.5764\n",
            "Epoch 17: loss improved from 1.01285 to 0.95963, saving model to weights.hdf5\n",
            "2/2 [==============================] - 1s 201ms/step - loss: 0.9596 - accuracy: 0.5764 - val_loss: 0.8632 - val_accuracy: 0.6250\n",
            "Epoch 18/100\n",
            "2/2 [==============================] - ETA: 0s - loss: 0.9298 - accuracy: 0.5625\n",
            "Epoch 18: loss improved from 0.95963 to 0.92976, saving model to weights.hdf5\n",
            "2/2 [==============================] - 1s 204ms/step - loss: 0.9298 - accuracy: 0.5625 - val_loss: 0.8713 - val_accuracy: 0.6528\n",
            "Epoch 19/100\n",
            "2/2 [==============================] - ETA: 0s - loss: 0.9013 - accuracy: 0.6042\n",
            "Epoch 19: loss improved from 0.92976 to 0.90134, saving model to weights.hdf5\n",
            "2/2 [==============================] - 1s 205ms/step - loss: 0.9013 - accuracy: 0.6042 - val_loss: 0.8949 - val_accuracy: 0.6528\n",
            "Epoch 20/100\n",
            "2/2 [==============================] - ETA: 0s - loss: 0.9062 - accuracy: 0.6528\n",
            "Epoch 20: loss did not improve from 0.90134\n",
            "2/2 [==============================] - 1s 162ms/step - loss: 0.9062 - accuracy: 0.6528 - val_loss: 0.8043 - val_accuracy: 0.7083\n",
            "Epoch 21/100\n",
            "2/2 [==============================] - ETA: 0s - loss: 0.8639 - accuracy: 0.6944\n",
            "Epoch 21: loss improved from 0.90134 to 0.86385, saving model to weights.hdf5\n",
            "2/2 [==============================] - 1s 200ms/step - loss: 0.8639 - accuracy: 0.6944 - val_loss: 0.8291 - val_accuracy: 0.7222\n",
            "Epoch 22/100\n",
            "2/2 [==============================] - ETA: 0s - loss: 0.8353 - accuracy: 0.7917\n",
            "Epoch 22: loss improved from 0.86385 to 0.83526, saving model to weights.hdf5\n",
            "2/2 [==============================] - 1s 205ms/step - loss: 0.8353 - accuracy: 0.7917 - val_loss: 0.8017 - val_accuracy: 0.7222\n",
            "Epoch 23/100\n",
            "2/2 [==============================] - ETA: 0s - loss: 0.8145 - accuracy: 0.7361\n",
            "Epoch 23: loss improved from 0.83526 to 0.81449, saving model to weights.hdf5\n",
            "2/2 [==============================] - 1s 209ms/step - loss: 0.8145 - accuracy: 0.7361 - val_loss: 0.8197 - val_accuracy: 0.7222\n",
            "Epoch 24/100\n",
            "2/2 [==============================] - ETA: 0s - loss: 0.7817 - accuracy: 0.7639\n",
            "Epoch 24: loss improved from 0.81449 to 0.78166, saving model to weights.hdf5\n",
            "2/2 [==============================] - 1s 175ms/step - loss: 0.7817 - accuracy: 0.7639 - val_loss: 0.6912 - val_accuracy: 0.7917\n",
            "Epoch 25/100\n",
            "2/2 [==============================] - ETA: 0s - loss: 0.7269 - accuracy: 0.7778\n",
            "Epoch 25: loss improved from 0.78166 to 0.72694, saving model to weights.hdf5\n",
            "2/2 [==============================] - 0s 176ms/step - loss: 0.7269 - accuracy: 0.7778 - val_loss: 0.7291 - val_accuracy: 0.7500\n",
            "Epoch 26/100\n",
            "2/2 [==============================] - ETA: 0s - loss: 0.7533 - accuracy: 0.7986\n",
            "Epoch 26: loss did not improve from 0.72694\n",
            "2/2 [==============================] - 0s 128ms/step - loss: 0.7533 - accuracy: 0.7986 - val_loss: 0.6043 - val_accuracy: 0.7917\n",
            "Epoch 27/100\n",
            "2/2 [==============================] - ETA: 0s - loss: 0.6054 - accuracy: 0.8403\n",
            "Epoch 27: loss improved from 0.72694 to 0.60537, saving model to weights.hdf5\n",
            "2/2 [==============================] - 1s 179ms/step - loss: 0.6054 - accuracy: 0.8403 - val_loss: 0.6540 - val_accuracy: 0.7917\n",
            "Epoch 28/100\n",
            "2/2 [==============================] - ETA: 0s - loss: 0.6148 - accuracy: 0.8125\n",
            "Epoch 28: loss did not improve from 0.60537\n",
            "2/2 [==============================] - 0s 133ms/step - loss: 0.6148 - accuracy: 0.8125 - val_loss: 0.5305 - val_accuracy: 0.8472\n",
            "Epoch 29/100\n",
            "2/2 [==============================] - ETA: 0s - loss: 0.5243 - accuracy: 0.8542\n",
            "Epoch 29: loss improved from 0.60537 to 0.52427, saving model to weights.hdf5\n",
            "2/2 [==============================] - 1s 173ms/step - loss: 0.5243 - accuracy: 0.8542 - val_loss: 0.5941 - val_accuracy: 0.8333\n",
            "Epoch 30/100\n",
            "2/2 [==============================] - ETA: 0s - loss: 0.6247 - accuracy: 0.8056\n",
            "Epoch 30: loss did not improve from 0.52427\n",
            "2/2 [==============================] - 0s 133ms/step - loss: 0.6247 - accuracy: 0.8056 - val_loss: 0.4633 - val_accuracy: 0.8750\n",
            "Epoch 31/100\n",
            "2/2 [==============================] - ETA: 0s - loss: 0.4182 - accuracy: 0.8750\n",
            "Epoch 31: loss improved from 0.52427 to 0.41824, saving model to weights.hdf5\n",
            "2/2 [==============================] - 0s 165ms/step - loss: 0.4182 - accuracy: 0.8750 - val_loss: 0.5089 - val_accuracy: 0.8472\n",
            "Epoch 32/100\n",
            "2/2 [==============================] - ETA: 0s - loss: 0.4624 - accuracy: 0.8750\n",
            "Epoch 32: loss did not improve from 0.41824\n",
            "2/2 [==============================] - 0s 135ms/step - loss: 0.4624 - accuracy: 0.8750 - val_loss: 0.4271 - val_accuracy: 0.8750\n",
            "Epoch 33/100\n",
            "2/2 [==============================] - ETA: 0s - loss: 0.4071 - accuracy: 0.8681\n",
            "Epoch 33: loss improved from 0.41824 to 0.40709, saving model to weights.hdf5\n",
            "2/2 [==============================] - 1s 190ms/step - loss: 0.4071 - accuracy: 0.8681 - val_loss: 0.4677 - val_accuracy: 0.8889\n",
            "Epoch 34/100\n",
            "2/2 [==============================] - ETA: 0s - loss: 0.4117 - accuracy: 0.8750\n",
            "Epoch 34: loss did not improve from 0.40709\n",
            "2/2 [==============================] - 1s 139ms/step - loss: 0.4117 - accuracy: 0.8750 - val_loss: 0.4391 - val_accuracy: 0.8889\n",
            "Epoch 35/100\n",
            "2/2 [==============================] - ETA: 0s - loss: 0.3742 - accuracy: 0.9236\n",
            "Epoch 35: loss improved from 0.40709 to 0.37419, saving model to weights.hdf5\n",
            "2/2 [==============================] - 0s 168ms/step - loss: 0.3742 - accuracy: 0.9236 - val_loss: 0.4159 - val_accuracy: 0.9028\n",
            "Epoch 36/100\n",
            "2/2 [==============================] - ETA: 0s - loss: 0.3706 - accuracy: 0.9306\n",
            "Epoch 36: loss improved from 0.37419 to 0.37055, saving model to weights.hdf5\n",
            "2/2 [==============================] - 0s 168ms/step - loss: 0.3706 - accuracy: 0.9306 - val_loss: 0.3682 - val_accuracy: 0.8889\n",
            "Epoch 37/100\n",
            "2/2 [==============================] - ETA: 0s - loss: 0.3217 - accuracy: 0.9444\n",
            "Epoch 37: loss improved from 0.37055 to 0.32167, saving model to weights.hdf5\n",
            "2/2 [==============================] - 0s 165ms/step - loss: 0.3217 - accuracy: 0.9444 - val_loss: 0.3557 - val_accuracy: 0.9167\n",
            "Epoch 38/100\n",
            "2/2 [==============================] - ETA: 0s - loss: 0.3171 - accuracy: 0.9028\n",
            "Epoch 38: loss improved from 0.32167 to 0.31709, saving model to weights.hdf5\n",
            "2/2 [==============================] - 1s 173ms/step - loss: 0.3171 - accuracy: 0.9028 - val_loss: 0.3880 - val_accuracy: 0.8889\n",
            "Epoch 39/100\n",
            "2/2 [==============================] - ETA: 0s - loss: 0.2823 - accuracy: 0.9306\n",
            "Epoch 39: loss improved from 0.31709 to 0.28233, saving model to weights.hdf5\n",
            "2/2 [==============================] - 0s 171ms/step - loss: 0.2823 - accuracy: 0.9306 - val_loss: 0.4353 - val_accuracy: 0.8750\n",
            "Epoch 40/100\n",
            "2/2 [==============================] - ETA: 0s - loss: 0.2651 - accuracy: 0.9444\n",
            "Epoch 40: loss improved from 0.28233 to 0.26509, saving model to weights.hdf5\n",
            "2/2 [==============================] - 1s 179ms/step - loss: 0.2651 - accuracy: 0.9444 - val_loss: 0.4327 - val_accuracy: 0.9028\n",
            "Epoch 41/100\n",
            "2/2 [==============================] - ETA: 0s - loss: 0.2445 - accuracy: 0.9514\n",
            "Epoch 41: loss improved from 0.26509 to 0.24446, saving model to weights.hdf5\n",
            "2/2 [==============================] - 0s 161ms/step - loss: 0.2445 - accuracy: 0.9514 - val_loss: 0.4241 - val_accuracy: 0.9167\n",
            "Epoch 42/100\n",
            "2/2 [==============================] - ETA: 0s - loss: 0.2441 - accuracy: 0.9653\n",
            "Epoch 42: loss improved from 0.24446 to 0.24406, saving model to weights.hdf5\n",
            "2/2 [==============================] - 0s 166ms/step - loss: 0.2441 - accuracy: 0.9653 - val_loss: 0.3783 - val_accuracy: 0.9167\n",
            "Epoch 43/100\n",
            "2/2 [==============================] - ETA: 0s - loss: 0.2350 - accuracy: 0.9653\n",
            "Epoch 43: loss improved from 0.24406 to 0.23502, saving model to weights.hdf5\n",
            "2/2 [==============================] - 0s 162ms/step - loss: 0.2350 - accuracy: 0.9653 - val_loss: 0.3915 - val_accuracy: 0.8889\n",
            "Epoch 44/100\n",
            "2/2 [==============================] - ETA: 0s - loss: 0.2253 - accuracy: 0.9792\n",
            "Epoch 44: loss improved from 0.23502 to 0.22527, saving model to weights.hdf5\n",
            "2/2 [==============================] - 1s 169ms/step - loss: 0.2253 - accuracy: 0.9792 - val_loss: 0.3860 - val_accuracy: 0.8750\n",
            "Epoch 45/100\n",
            "2/2 [==============================] - ETA: 0s - loss: 0.2045 - accuracy: 0.9722\n",
            "Epoch 45: loss improved from 0.22527 to 0.20447, saving model to weights.hdf5\n",
            "2/2 [==============================] - 0s 168ms/step - loss: 0.2045 - accuracy: 0.9722 - val_loss: 0.4496 - val_accuracy: 0.9306\n",
            "Epoch 46/100\n",
            "2/2 [==============================] - ETA: 0s - loss: 0.1987 - accuracy: 0.9792\n",
            "Epoch 46: loss improved from 0.20447 to 0.19865, saving model to weights.hdf5\n",
            "2/2 [==============================] - 1s 165ms/step - loss: 0.1987 - accuracy: 0.9792 - val_loss: 0.5455 - val_accuracy: 0.9167\n",
            "Epoch 47/100\n",
            "2/2 [==============================] - ETA: 0s - loss: 0.2293 - accuracy: 0.9514\n",
            "Epoch 47: loss did not improve from 0.19865\n",
            "2/2 [==============================] - 0s 133ms/step - loss: 0.2293 - accuracy: 0.9514 - val_loss: 0.4809 - val_accuracy: 0.8889\n",
            "Epoch 48/100\n",
            "2/2 [==============================] - ETA: 0s - loss: 0.1885 - accuracy: 0.9722\n",
            "Epoch 48: loss improved from 0.19865 to 0.18851, saving model to weights.hdf5\n",
            "2/2 [==============================] - 1s 181ms/step - loss: 0.1885 - accuracy: 0.9722 - val_loss: 0.4555 - val_accuracy: 0.8472\n",
            "Epoch 49/100\n",
            "2/2 [==============================] - ETA: 0s - loss: 0.1836 - accuracy: 0.9861\n",
            "Epoch 49: loss improved from 0.18851 to 0.18362, saving model to weights.hdf5\n",
            "2/2 [==============================] - 1s 192ms/step - loss: 0.1836 - accuracy: 0.9861 - val_loss: 0.3875 - val_accuracy: 0.9028\n",
            "Epoch 50/100\n",
            "2/2 [==============================] - ETA: 0s - loss: 0.1593 - accuracy: 0.9861\n",
            "Epoch 50: loss improved from 0.18362 to 0.15931, saving model to weights.hdf5\n",
            "2/2 [==============================] - 1s 202ms/step - loss: 0.1593 - accuracy: 0.9861 - val_loss: 0.4015 - val_accuracy: 0.9306\n",
            "Epoch 51/100\n",
            "2/2 [==============================] - ETA: 0s - loss: 0.1741 - accuracy: 0.9792\n",
            "Epoch 51: loss did not improve from 0.15931\n",
            "2/2 [==============================] - 1s 156ms/step - loss: 0.1741 - accuracy: 0.9792 - val_loss: 0.3608 - val_accuracy: 0.9167\n",
            "Epoch 52/100\n",
            "2/2 [==============================] - ETA: 0s - loss: 0.1598 - accuracy: 1.0000\n",
            "Epoch 52: loss did not improve from 0.15931\n",
            "2/2 [==============================] - 1s 154ms/step - loss: 0.1598 - accuracy: 1.0000 - val_loss: 0.4418 - val_accuracy: 0.8750\n",
            "Epoch 53/100\n",
            "2/2 [==============================] - ETA: 0s - loss: 0.1659 - accuracy: 1.0000\n",
            "Epoch 53: loss did not improve from 0.15931\n",
            "2/2 [==============================] - 0s 138ms/step - loss: 0.1659 - accuracy: 1.0000 - val_loss: 0.4972 - val_accuracy: 0.8889\n",
            "Epoch 54/100\n",
            "2/2 [==============================] - ETA: 0s - loss: 0.1742 - accuracy: 0.9792\n",
            "Epoch 54: loss did not improve from 0.15931\n",
            "2/2 [==============================] - 0s 137ms/step - loss: 0.1742 - accuracy: 0.9792 - val_loss: 0.4580 - val_accuracy: 0.9167\n",
            "Epoch 55/100\n",
            "2/2 [==============================] - ETA: 0s - loss: 0.1419 - accuracy: 0.9931\n",
            "Epoch 55: loss improved from 0.15931 to 0.14194, saving model to weights.hdf5\n",
            "2/2 [==============================] - 1s 200ms/step - loss: 0.1419 - accuracy: 0.9931 - val_loss: 0.5425 - val_accuracy: 0.9028\n",
            "Epoch 56/100\n",
            "2/2 [==============================] - ETA: 0s - loss: 0.1461 - accuracy: 1.0000\n",
            "Epoch 56: loss did not improve from 0.14194\n",
            "2/2 [==============================] - 1s 154ms/step - loss: 0.1461 - accuracy: 1.0000 - val_loss: 0.5616 - val_accuracy: 0.9028\n",
            "Epoch 57/100\n",
            "2/2 [==============================] - ETA: 0s - loss: 0.1492 - accuracy: 0.9861\n",
            "Epoch 57: loss did not improve from 0.14194\n",
            "2/2 [==============================] - 1s 145ms/step - loss: 0.1492 - accuracy: 0.9861 - val_loss: 0.5144 - val_accuracy: 0.9167\n",
            "Epoch 58/100\n",
            "2/2 [==============================] - ETA: 0s - loss: 0.1467 - accuracy: 0.9931\n",
            "Epoch 58: loss did not improve from 0.14194\n",
            "2/2 [==============================] - 1s 150ms/step - loss: 0.1467 - accuracy: 0.9931 - val_loss: 0.4812 - val_accuracy: 0.9028\n",
            "Epoch 59/100\n",
            "2/2 [==============================] - ETA: 0s - loss: 0.1489 - accuracy: 0.9931\n",
            "Epoch 59: loss did not improve from 0.14194\n",
            "2/2 [==============================] - 1s 154ms/step - loss: 0.1489 - accuracy: 0.9931 - val_loss: 0.5600 - val_accuracy: 0.8889\n",
            "Epoch 60/100\n",
            "2/2 [==============================] - ETA: 0s - loss: 0.1539 - accuracy: 1.0000\n",
            "Epoch 60: loss did not improve from 0.14194\n",
            "2/2 [==============================] - 1s 145ms/step - loss: 0.1539 - accuracy: 1.0000 - val_loss: 0.6007 - val_accuracy: 0.8750\n",
            "Epoch 61/100\n",
            "2/2 [==============================] - ETA: 0s - loss: 0.1698 - accuracy: 0.9792\n",
            "Epoch 61: loss did not improve from 0.14194\n",
            "2/2 [==============================] - 0s 135ms/step - loss: 0.1698 - accuracy: 0.9792 - val_loss: 0.5782 - val_accuracy: 0.8750\n",
            "Epoch 62/100\n",
            "2/2 [==============================] - ETA: 0s - loss: 0.1640 - accuracy: 0.9931\n",
            "Epoch 62: loss did not improve from 0.14194\n",
            "2/2 [==============================] - 0s 137ms/step - loss: 0.1640 - accuracy: 0.9931 - val_loss: 0.4742 - val_accuracy: 0.9306\n",
            "Epoch 63/100\n",
            "2/2 [==============================] - ETA: 0s - loss: 0.1515 - accuracy: 0.9931\n",
            "Epoch 63: loss did not improve from 0.14194\n",
            "2/2 [==============================] - 0s 135ms/step - loss: 0.1515 - accuracy: 0.9931 - val_loss: 0.3923 - val_accuracy: 0.9306\n",
            "Epoch 64/100\n",
            "2/2 [==============================] - ETA: 0s - loss: 0.1361 - accuracy: 1.0000\n",
            "Epoch 64: loss improved from 0.14194 to 0.13607, saving model to weights.hdf5\n",
            "2/2 [==============================] - 1s 208ms/step - loss: 0.1361 - accuracy: 1.0000 - val_loss: 0.3644 - val_accuracy: 0.9444\n",
            "Epoch 65/100\n",
            "2/2 [==============================] - ETA: 0s - loss: 0.1420 - accuracy: 0.9931\n",
            "Epoch 65: loss did not improve from 0.13607\n",
            "2/2 [==============================] - 0s 133ms/step - loss: 0.1420 - accuracy: 0.9931 - val_loss: 0.3470 - val_accuracy: 0.9444\n",
            "Epoch 66/100\n",
            "2/2 [==============================] - ETA: 0s - loss: 0.1395 - accuracy: 0.9931\n",
            "Epoch 66: loss did not improve from 0.13607\n",
            "2/2 [==============================] - 0s 146ms/step - loss: 0.1395 - accuracy: 0.9931 - val_loss: 0.3445 - val_accuracy: 0.9306\n",
            "Epoch 67/100\n",
            "2/2 [==============================] - ETA: 0s - loss: 0.1334 - accuracy: 1.0000\n",
            "Epoch 67: loss improved from 0.13607 to 0.13337, saving model to weights.hdf5\n",
            "2/2 [==============================] - 1s 193ms/step - loss: 0.1334 - accuracy: 1.0000 - val_loss: 0.3355 - val_accuracy: 0.9306\n",
            "Epoch 68/100\n",
            "2/2 [==============================] - ETA: 0s - loss: 0.1302 - accuracy: 1.0000\n",
            "Epoch 68: loss improved from 0.13337 to 0.13018, saving model to weights.hdf5\n",
            "2/2 [==============================] - 1s 219ms/step - loss: 0.1302 - accuracy: 1.0000 - val_loss: 0.3469 - val_accuracy: 0.9306\n",
            "Epoch 69/100\n",
            "2/2 [==============================] - ETA: 0s - loss: 0.1274 - accuracy: 1.0000\n",
            "Epoch 69: loss improved from 0.13018 to 0.12737, saving model to weights.hdf5\n",
            "2/2 [==============================] - 1s 192ms/step - loss: 0.1274 - accuracy: 1.0000 - val_loss: 0.3698 - val_accuracy: 0.9167\n",
            "Epoch 70/100\n",
            "2/2 [==============================] - ETA: 0s - loss: 0.1352 - accuracy: 1.0000\n",
            "Epoch 70: loss did not improve from 0.12737\n",
            "2/2 [==============================] - 0s 134ms/step - loss: 0.1352 - accuracy: 1.0000 - val_loss: 0.3907 - val_accuracy: 0.9306\n",
            "Epoch 71/100\n",
            "2/2 [==============================] - ETA: 0s - loss: 0.1289 - accuracy: 1.0000\n",
            "Epoch 71: loss did not improve from 0.12737\n",
            "2/2 [==============================] - 0s 130ms/step - loss: 0.1289 - accuracy: 1.0000 - val_loss: 0.4041 - val_accuracy: 0.9444\n",
            "Epoch 72/100\n",
            "2/2 [==============================] - ETA: 0s - loss: 0.1241 - accuracy: 1.0000\n",
            "Epoch 72: loss improved from 0.12737 to 0.12407, saving model to weights.hdf5\n",
            "2/2 [==============================] - 1s 187ms/step - loss: 0.1241 - accuracy: 1.0000 - val_loss: 0.3990 - val_accuracy: 0.9306\n",
            "Epoch 73/100\n",
            "2/2 [==============================] - ETA: 0s - loss: 0.1247 - accuracy: 1.0000\n",
            "Epoch 73: loss did not improve from 0.12407\n",
            "2/2 [==============================] - 0s 145ms/step - loss: 0.1247 - accuracy: 1.0000 - val_loss: 0.3936 - val_accuracy: 0.9306\n",
            "Epoch 74/100\n",
            "2/2 [==============================] - ETA: 0s - loss: 0.1230 - accuracy: 1.0000\n",
            "Epoch 74: loss improved from 0.12407 to 0.12301, saving model to weights.hdf5\n",
            "2/2 [==============================] - 1s 191ms/step - loss: 0.1230 - accuracy: 1.0000 - val_loss: 0.3932 - val_accuracy: 0.9306\n",
            "Epoch 75/100\n",
            "2/2 [==============================] - ETA: 0s - loss: 0.1232 - accuracy: 1.0000\n",
            "Epoch 75: loss did not improve from 0.12301\n",
            "2/2 [==============================] - 1s 152ms/step - loss: 0.1232 - accuracy: 1.0000 - val_loss: 0.3963 - val_accuracy: 0.9306\n",
            "Epoch 76/100\n",
            "2/2 [==============================] - ETA: 0s - loss: 0.1190 - accuracy: 1.0000\n",
            "Epoch 76: loss improved from 0.12301 to 0.11904, saving model to weights.hdf5\n",
            "2/2 [==============================] - 1s 204ms/step - loss: 0.1190 - accuracy: 1.0000 - val_loss: 0.3997 - val_accuracy: 0.9306\n",
            "Epoch 77/100\n",
            "2/2 [==============================] - ETA: 0s - loss: 0.1195 - accuracy: 1.0000\n",
            "Epoch 77: loss did not improve from 0.11904\n",
            "2/2 [==============================] - 1s 151ms/step - loss: 0.1195 - accuracy: 1.0000 - val_loss: 0.4017 - val_accuracy: 0.9306\n",
            "Epoch 78/100\n",
            "2/2 [==============================] - ETA: 0s - loss: 0.1195 - accuracy: 1.0000\n",
            "Epoch 78: loss did not improve from 0.11904\n",
            "2/2 [==============================] - 1s 147ms/step - loss: 0.1195 - accuracy: 1.0000 - val_loss: 0.4036 - val_accuracy: 0.9167\n",
            "Epoch 79/100\n",
            "2/2 [==============================] - ETA: 0s - loss: 0.1204 - accuracy: 1.0000\n",
            "Epoch 79: loss did not improve from 0.11904\n",
            "2/2 [==============================] - 1s 163ms/step - loss: 0.1204 - accuracy: 1.0000 - val_loss: 0.4065 - val_accuracy: 0.9167\n",
            "Epoch 80/100\n",
            "2/2 [==============================] - ETA: 0s - loss: 0.1207 - accuracy: 1.0000\n",
            "Epoch 80: loss did not improve from 0.11904\n",
            "2/2 [==============================] - 1s 149ms/step - loss: 0.1207 - accuracy: 1.0000 - val_loss: 0.4080 - val_accuracy: 0.9167\n",
            "Epoch 81/100\n",
            "2/2 [==============================] - ETA: 0s - loss: 0.1173 - accuracy: 1.0000\n",
            "Epoch 81: loss improved from 0.11904 to 0.11731, saving model to weights.hdf5\n",
            "2/2 [==============================] - 1s 204ms/step - loss: 0.1173 - accuracy: 1.0000 - val_loss: 0.4125 - val_accuracy: 0.9167\n",
            "Epoch 82/100\n",
            "2/2 [==============================] - ETA: 0s - loss: 0.1183 - accuracy: 1.0000\n",
            "Epoch 82: loss did not improve from 0.11731\n",
            "2/2 [==============================] - 1s 137ms/step - loss: 0.1183 - accuracy: 1.0000 - val_loss: 0.4218 - val_accuracy: 0.9167\n",
            "Epoch 83/100\n",
            "2/2 [==============================] - ETA: 0s - loss: 0.1183 - accuracy: 1.0000\n",
            "Epoch 83: loss did not improve from 0.11731\n",
            "2/2 [==============================] - 0s 166ms/step - loss: 0.1183 - accuracy: 1.0000 - val_loss: 0.4345 - val_accuracy: 0.9306\n",
            "Epoch 84/100\n",
            "2/2 [==============================] - ETA: 0s - loss: 0.1184 - accuracy: 1.0000\n",
            "Epoch 84: loss did not improve from 0.11731\n",
            "2/2 [==============================] - 0s 145ms/step - loss: 0.1184 - accuracy: 1.0000 - val_loss: 0.4447 - val_accuracy: 0.9167\n",
            "Epoch 85/100\n",
            "2/2 [==============================] - ETA: 0s - loss: 0.1171 - accuracy: 1.0000\n",
            "Epoch 85: loss improved from 0.11731 to 0.11707, saving model to weights.hdf5\n",
            "2/2 [==============================] - 1s 188ms/step - loss: 0.1171 - accuracy: 1.0000 - val_loss: 0.4493 - val_accuracy: 0.9306\n",
            "Epoch 86/100\n",
            "2/2 [==============================] - ETA: 0s - loss: 0.1173 - accuracy: 1.0000\n",
            "Epoch 86: loss did not improve from 0.11707\n",
            "2/2 [==============================] - 0s 134ms/step - loss: 0.1173 - accuracy: 1.0000 - val_loss: 0.4519 - val_accuracy: 0.9167\n",
            "Epoch 87/100\n",
            "2/2 [==============================] - ETA: 0s - loss: 0.1167 - accuracy: 1.0000\n",
            "Epoch 87: loss improved from 0.11707 to 0.11674, saving model to weights.hdf5\n",
            "2/2 [==============================] - 1s 176ms/step - loss: 0.1167 - accuracy: 1.0000 - val_loss: 0.4607 - val_accuracy: 0.9167\n",
            "Epoch 88/100\n",
            "2/2 [==============================] - ETA: 0s - loss: 0.1160 - accuracy: 1.0000\n",
            "Epoch 88: loss improved from 0.11674 to 0.11604, saving model to weights.hdf5\n",
            "2/2 [==============================] - 1s 175ms/step - loss: 0.1160 - accuracy: 1.0000 - val_loss: 0.4762 - val_accuracy: 0.9167\n",
            "Epoch 89/100\n",
            "2/2 [==============================] - ETA: 0s - loss: 0.1158 - accuracy: 1.0000\n",
            "Epoch 89: loss improved from 0.11604 to 0.11580, saving model to weights.hdf5\n",
            "2/2 [==============================] - 1s 173ms/step - loss: 0.1158 - accuracy: 1.0000 - val_loss: 0.4878 - val_accuracy: 0.9167\n",
            "Epoch 90/100\n",
            "2/2 [==============================] - ETA: 0s - loss: 0.1155 - accuracy: 1.0000\n",
            "Epoch 90: loss improved from 0.11580 to 0.11547, saving model to weights.hdf5\n",
            "2/2 [==============================] - 1s 169ms/step - loss: 0.1155 - accuracy: 1.0000 - val_loss: 0.4857 - val_accuracy: 0.9167\n",
            "Epoch 91/100\n",
            "2/2 [==============================] - ETA: 0s - loss: 0.1149 - accuracy: 1.0000\n",
            "Epoch 91: loss improved from 0.11547 to 0.11495, saving model to weights.hdf5\n",
            "2/2 [==============================] - 1s 169ms/step - loss: 0.1149 - accuracy: 1.0000 - val_loss: 0.4852 - val_accuracy: 0.9167\n",
            "Epoch 92/100\n",
            "2/2 [==============================] - ETA: 0s - loss: 0.1139 - accuracy: 1.0000\n",
            "Epoch 92: loss improved from 0.11495 to 0.11392, saving model to weights.hdf5\n",
            "2/2 [==============================] - 1s 177ms/step - loss: 0.1139 - accuracy: 1.0000 - val_loss: 0.4992 - val_accuracy: 0.9028\n",
            "Epoch 93/100\n",
            "2/2 [==============================] - ETA: 0s - loss: 0.1157 - accuracy: 1.0000\n",
            "Epoch 93: loss did not improve from 0.11392\n",
            "2/2 [==============================] - 0s 140ms/step - loss: 0.1157 - accuracy: 1.0000 - val_loss: 0.5068 - val_accuracy: 0.9028\n",
            "Epoch 94/100\n",
            "2/2 [==============================] - ETA: 0s - loss: 0.1139 - accuracy: 1.0000\n",
            "Epoch 94: loss did not improve from 0.11392\n",
            "2/2 [==============================] - 0s 134ms/step - loss: 0.1139 - accuracy: 1.0000 - val_loss: 0.5052 - val_accuracy: 0.9028\n",
            "Epoch 95/100\n",
            "2/2 [==============================] - ETA: 0s - loss: 0.1153 - accuracy: 1.0000\n",
            "Epoch 95: loss did not improve from 0.11392\n",
            "2/2 [==============================] - 0s 129ms/step - loss: 0.1153 - accuracy: 1.0000 - val_loss: 0.4992 - val_accuracy: 0.9167\n",
            "Epoch 96/100\n",
            "2/2 [==============================] - ETA: 0s - loss: 0.1140 - accuracy: 1.0000\n",
            "Epoch 96: loss did not improve from 0.11392\n",
            "2/2 [==============================] - 0s 143ms/step - loss: 0.1140 - accuracy: 1.0000 - val_loss: 0.5061 - val_accuracy: 0.9167\n",
            "Epoch 97/100\n",
            "2/2 [==============================] - ETA: 0s - loss: 0.1141 - accuracy: 1.0000\n",
            "Epoch 97: loss did not improve from 0.11392\n",
            "2/2 [==============================] - 0s 133ms/step - loss: 0.1141 - accuracy: 1.0000 - val_loss: 0.5063 - val_accuracy: 0.9028\n",
            "Epoch 98/100\n",
            "2/2 [==============================] - ETA: 0s - loss: 0.1147 - accuracy: 1.0000\n",
            "Epoch 98: loss did not improve from 0.11392\n",
            "2/2 [==============================] - 0s 140ms/step - loss: 0.1147 - accuracy: 1.0000 - val_loss: 0.4875 - val_accuracy: 0.9167\n",
            "Epoch 99/100\n",
            "2/2 [==============================] - ETA: 0s - loss: 0.1125 - accuracy: 1.0000\n",
            "Epoch 99: loss improved from 0.11392 to 0.11249, saving model to weights.hdf5\n",
            "2/2 [==============================] - 0s 168ms/step - loss: 0.1125 - accuracy: 1.0000 - val_loss: 0.4681 - val_accuracy: 0.9167\n",
            "Epoch 100/100\n",
            "2/2 [==============================] - ETA: 0s - loss: 0.1123 - accuracy: 1.0000\n",
            "Epoch 100: loss improved from 0.11249 to 0.11228, saving model to weights.hdf5\n",
            "2/2 [==============================] - 0s 166ms/step - loss: 0.1123 - accuracy: 1.0000 - val_loss: 0.4521 - val_accuracy: 0.9167\n"
          ]
        }
      ]
    },
    {
      "cell_type": "code",
      "source": [
        "scores = model.evaluate(X_test, y_test, verbose=1)\n",
        "print('Test loss : ', scores[0])\n",
        "print('Test accuarcy : ', scores[1])"
      ],
      "metadata": {
        "colab": {
          "base_uri": "https://localhost:8080/"
        },
        "id": "o7hTJTXeQeZI",
        "outputId": "0c849018-8f41-4b95-b9d8-930102eeda7f"
      },
      "execution_count": 38,
      "outputs": [
        {
          "output_type": "stream",
          "name": "stdout",
          "text": [
            "1/1 [==============================] - 0s 55ms/step - loss: 0.7531 - accuracy: 0.8750\n",
            "Test loss :  0.7531259059906006\n",
            "Test accuarcy :  0.875\n"
          ]
        }
      ]
    },
    {
      "cell_type": "code",
      "source": [
        "figure=plt.figure(figsize=(15,15))\n",
        "ax=figure.add_subplot(121)\n",
        "ax.plot(history.history['accuracy'])\n",
        "ax.plot(history.history['val_accuracy'])\n",
        "ax.legend(['Training Accuracy','Val Accuracy'])\n",
        "bx=figure.add_subplot(122)\n",
        "bx.plot(history.history['loss'])\n",
        "bx.plot(history.history['val_loss'])\n",
        "bx.legend(['Training Loss','Val Loss'])"
      ],
      "metadata": {
        "colab": {
          "base_uri": "https://localhost:8080/",
          "height": 880
        },
        "id": "pmrllx4SUrQT",
        "outputId": "b63dbe4f-aedb-4828-884f-59137729d0be"
      },
      "execution_count": 39,
      "outputs": [
        {
          "output_type": "execute_result",
          "data": {
            "text/plain": [
              "<matplotlib.legend.Legend at 0x7f34920fa410>"
            ]
          },
          "metadata": {},
          "execution_count": 39
        },
        {
          "output_type": "display_data",
          "data": {
            "text/plain": [
              "<Figure size 1080x1080 with 2 Axes>"
            ],
            "image/png": "[encoded data removed]"
          },
          "metadata": {
            "needs_background": "light"
          }
        }
      ]
    },
    {
      "cell_type": "markdown",
      "source": [
        "# Test"
      ],
      "metadata": {
        "id": "tz_NdwYvUyrS"
      }
    },
    {
      "cell_type": "code",
      "source": [
        "test_path = '/content/drive/MyDrive/Data/Fruit image for object detection/test'\n",
        "t_labels=[]\n",
        "t_images=[]\n",
        "for filename in os.listdir('/content/drive/MyDrive/Data/Fruit image for object detection/test'):\n",
        "    if filename.split('.')[1] == 'jpg':\n",
        "        img = cv2.imread(os.path.join(test_path,filename))\n",
        "        ary=Image.fromarray(img,'RGB')\n",
        "        r=ary.resize((50,50))\n",
        "        t_labels.append(filename.split('_')[0])\n",
        "        t_images.append(np.array(r))"
      ],
      "metadata": {
        "id": "6E5UwQ0eUvRh"
      },
      "execution_count": 40,
      "outputs": []
    },
    {
      "cell_type": "code",
      "source": [
        "t_images=np.array(t_images)\n",
        "np.save(\"t_image\", t_images)\n",
        "t_image=np.load(\"image.npy\", allow_pickle=True)"
      ],
      "metadata": {
        "id": "ZpFKuaWSU9Lc"
      },
      "execution_count": 41,
      "outputs": []
    },
    {
      "cell_type": "code",
      "source": [
        "pred=np.argmax(model.predict(t_image), axis=1)\n",
        "prediction = la.inverse_transform(pred)"
      ],
      "metadata": {
        "id": "_AH_MIXOU_Oo"
      },
      "execution_count": 42,
      "outputs": []
    },
    {
      "cell_type": "code",
      "source": [
        "t_image=np.expand_dims(t_images[10], axis=0)\n",
        "pred_t=np.argmax(model.predict(t_image), axis=1)\n",
        "prediction_t = la.inverse_transform(pred_t)"
      ],
      "metadata": {
        "id": "_cETB1hAVDJU"
      },
      "execution_count": 43,
      "outputs": []
    },
    {
      "cell_type": "code",
      "source": [
        "print(prediction_t[0])\n",
        "plt.imshow(t_images[10])"
      ],
      "metadata": {
        "colab": {
          "base_uri": "https://localhost:8080/",
          "height": 302
        },
        "id": "1wjdXaV5VF_U",
        "outputId": "c886cea5-19f7-48ad-e33c-7fe3f3b9cbe8"
      },
      "execution_count": 51,
      "outputs": [
        {
          "output_type": "stream",
          "name": "stdout",
          "text": [
            "mixed\n"
          ]
        },
        {
          "output_type": "execute_result",
          "data": {
            "text/plain": [
              "<matplotlib.image.AxesImage at 0x7f34871a1610>"
            ]
          },
          "metadata": {},
          "execution_count": 51
        },
        {
          "output_type": "display_data",
          "data": {
            "text/plain": [
              "<Figure size 432x288 with 1 Axes>"
            ],
            "image/png": "[encoded data removed]"
          },
          "metadata": {
            "needs_background": "light"
          }
        }
      ]
    },
    {
      "cell_type": "code",
      "source": [
        ""
      ],
      "metadata": {
        "id": "eHdgS36pVHUM"
      },
      "execution_count": null,
      "outputs": []
    }
  ]
}